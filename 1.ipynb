{
 "cells": [
  {
   "cell_type": "code",
   "execution_count": 1,
   "id": "11d930e2",
   "metadata": {},
   "outputs": [
    {
     "name": "stderr",
     "output_type": "stream",
     "text": [
      "d:\\ALL CODES\\MANIM VIDEO\\.venv\\Lib\\site-packages\\pydub\\utils.py:170: RuntimeWarning: Couldn't find ffmpeg or avconv - defaulting to ffmpeg, but may not work\n",
      "  warn(\"Couldn't find ffmpeg or avconv - defaulting to ffmpeg, but may not work\", RuntimeWarning)\n"
     ]
    }
   ],
   "source": [
    "import manim\n"
   ]
  },
  {
   "cell_type": "code",
   "execution_count": 3,
   "id": "8b106a34",
   "metadata": {},
   "outputs": [],
   "source": [
    "from manim import *\n",
    "class PointMovingOnShapes(Scene):\n",
    "    def construct(self):\n",
    "        circle = Circle(radius=1, color=BLUE)\n",
    "        dot = Dot()\n",
    "        dot2 = dot.copy().shift(RIGHT)\n",
    "        self.add(dot)\n",
    "\n",
    "        line = Line([3, 0, 0], [5, 0, 0])\n",
    "        self.add(line)\n",
    "\n",
    "        self.play(GrowFromCenter(circle))\n",
    "        self.play(Transform(dot, dot2))\n",
    "        self.play(MoveAlongPath(dot, circle), run_time=2, rate_func=linear)\n",
    "        self.play(Rotating(dot, about_point=[2, 0, 0]), run_time=1.5)\n",
    "        self.wait()\n",
    "\n",
    "\n",
    "\n",
    "# don't remove below command for run button to work\n"
   ]
  },
  {
   "cell_type": "code",
   "execution_count": 4,
   "id": "4d399de2",
   "metadata": {},
   "outputs": [
    {
     "data": {
      "text/html": [
       "<pre style=\"white-space:pre;overflow-x:auto;line-height:normal;font-family:Menlo,'DejaVu Sans Mono',consolas,'Courier New',monospace\">Manim Community <span style=\"color: #008000; text-decoration-color: #008000\">v0.19.0</span>\n",
       "\n",
       "</pre>\n"
      ],
      "text/plain": [
       "Manim Community \u001b[32mv0.\u001b[0m\u001b[32m19.0\u001b[0m\n",
       "\n"
      ]
     },
     "metadata": {},
     "output_type": "display_data"
    },
    {
     "name": "stderr",
     "output_type": "stream",
     "text": [
      "                                                                                     \r"
     ]
    },
    {
     "data": {
      "text/html": [
       "<video src=\"media\\jupyter\\PointMovingOnShapes@2025-06-19@21-37-20.mp4\" controls autoplay loop style=\"max-width: 60%;\"  >\n",
       "      Your browser does not support the <code>video</code> element.\n",
       "    </video>"
      ],
      "text/plain": [
       "<IPython.core.display.Video object>"
      ]
     },
     "metadata": {},
     "output_type": "display_data"
    }
   ],
   "source": [
    "%manim -qm -v WARNING PointMovingOnShapes"
   ]
  },
  {
   "cell_type": "code",
   "execution_count": 7,
   "id": "1c787c6e",
   "metadata": {},
   "outputs": [],
   "source": [
    "\n",
    "class DNATechnologyScene(Scene):\n",
    "    def construct(self):\n",
    "        # Title text at the top\n",
    "        title = Text(\"DNA TECHNOLOGIES\", font_size=48).to_edge(UP)\n",
    "        self.play(Write(title))\n",
    "\n",
    "        # List of state-of-the-art DNA technologies\n",
    "        technologies = [\n",
    "            \"CRISPR-Cas9\",\n",
    "            \"Gene Therapy\",\n",
    "            \"Synthetic Biology\",\n",
    "            \"DNA Sequencing\",\n",
    "            \"Epigenetic Editing\",\n",
    "            \"RNA Interference\",\n",
    "        ]\n",
    "\n",
    "        # Create a VGroup for the list\n",
    "        tech_list = VGroup(\n",
    "            *[Text(tech, font_size=36) for tech in technologies]\n",
    "        ).arrange(DOWN, aligned_edge=LEFT).next_to(title, DOWN, buff=1)\n",
    "\n",
    "        # Animate the list\n",
    "        for tech in tech_list:\n",
    "            self.play(FadeIn(tech, shift=UP))\n",
    "\n",
    "        # Add some design elements (optional)\n",
    "        underline = Line(start=LEFT, end=RIGHT, color=BLUE).next_to(title, DOWN)\n",
    "        underline.set_width(title.width)\n",
    "        self.play(Create(underline))\n",
    "\n",
    "        # Keep the scene for a few seconds\n",
    "        self.wait()\n"
   ]
  },
  {
   "cell_type": "code",
   "execution_count": 8,
   "id": "740ba88f",
   "metadata": {},
   "outputs": [
    {
     "data": {
      "text/html": [
       "<pre style=\"white-space:pre;overflow-x:auto;line-height:normal;font-family:Menlo,'DejaVu Sans Mono',consolas,'Courier New',monospace\">Manim Community <span style=\"color: #008000; text-decoration-color: #008000\">v0.19.0</span>\n",
       "\n",
       "</pre>\n"
      ],
      "text/plain": [
       "Manim Community \u001b[32mv0.\u001b[0m\u001b[32m19.0\u001b[0m\n",
       "\n"
      ]
     },
     "metadata": {},
     "output_type": "display_data"
    },
    {
     "name": "stderr",
     "output_type": "stream",
     "text": [
      "C:\\Users\\defaultuser0.LAPTOP-LRB3T941\\AppData\\Local\\Temp\\ipykernel_21892\\4293712008.py:28: DeprecationWarning: This method is not guaranteed to stay around. Please prefer setting the attribute normally or with Mobject.set().\n",
      "  underline.set_width(title.width)\n",
      "                                                                           \r"
     ]
    },
    {
     "data": {
      "text/html": [
       "<video src=\"media\\jupyter\\DNATechnologyScene@2025-06-19@21-41-22.mp4\" controls autoplay loop style=\"max-width: 60%;\"  >\n",
       "      Your browser does not support the <code>video</code> element.\n",
       "    </video>"
      ],
      "text/plain": [
       "<IPython.core.display.Video object>"
      ]
     },
     "metadata": {},
     "output_type": "display_data"
    }
   ],
   "source": [
    "%manim -qm -v WARNING DNATechnologyScene"
   ]
  },
  {
   "cell_type": "code",
   "execution_count": 16,
   "id": "4444cefb",
   "metadata": {},
   "outputs": [],
   "source": [
    "from manim import *\n",
    "\n",
    "class DNATechnologyScene(Scene):\n",
    "    def construct(self):\n",
    "        # Title text at the top\n",
    "        title = Text(\"DNA TECHNOLOGY\", font_size=48).to_edge(UP)\n",
    "        self.play(Write(title))\n",
    "\n",
    "        # List of state-of-the-art DNA technologies\n",
    "        technologies = [\n",
    "            \"CRISPR-Cas9\",\n",
    "            \"Gene Therapy\",\n",
    "            \"Synthetic Biology\",\n",
    "            \"DNA Sequencing\",\n",
    "            \"Epigenetic Editing\",\n",
    "            \"RNA Interference\",\n",
    "        ]\n",
    "\n",
    "        descriptions = {\n",
    "            \"CRISPR-Cas9\": \"Precise genome editing tool.\",\n",
    "            \"GeneTherapy\": \"Treats genetic disorders by altering genes.\",\n",
    "            \"SyntheticBiology\": \"Design and construct new biological parts.\",\n",
    "            \"DNASequencing\": \"Determines the order of DNA nucleotides.\",\n",
    "            \"EpigeneticEditing\": \"Modifies gene expression without altering DNA.\",\n",
    "            \"RNAInterference\": \"Silences specific gene expressions.\",\n",
    "        }\n",
    "\n",
    "        # Create a VGroup for the list\n",
    "        tech_list = VGroup(\n",
    "            *[Text(tech, font_size=36) for tech in technologies]\n",
    "        ).arrange(DOWN, aligned_edge=LEFT).next_to(title, DOWN, buff=1)\n",
    "\n",
    "        # Animate the list and add arrows with descriptions\n",
    "        for tech in tech_list:\n",
    "            self.play(FadeIn(tech, shift=UP))\n",
    "            arrow = Arrow(start=tech.get_right(), end=tech.get_right() + RIGHT * 2, color=YELLOW)\n",
    "            description = Text(descriptions[tech.text], font_size=24).next_to(arrow, RIGHT)\n",
    "            self.play(Create(arrow), Write(description))\n",
    "            self.wait(3)  # Pause for voiceover\n",
    "\n",
    "        # Add some design elements (optional)\n",
    "        underline = Line(start=LEFT, end=RIGHT, color=BLUE).next_to(title, DOWN)\n",
    "        underline.set_width(title.width)\n",
    "        self.play(Create(underline))\n",
    "\n",
    "        # Keep the scene for a few seconds\n",
    "        self.wait()\n"
   ]
  },
  {
   "cell_type": "code",
   "execution_count": 17,
   "id": "aeed0f22",
   "metadata": {},
   "outputs": [
    {
     "data": {
      "text/html": [
       "<pre style=\"white-space:pre;overflow-x:auto;line-height:normal;font-family:Menlo,'DejaVu Sans Mono',consolas,'Courier New',monospace\">Manim Community <span style=\"color: #008000; text-decoration-color: #008000\">v0.19.0</span>\n",
       "\n",
       "</pre>\n"
      ],
      "text/plain": [
       "Manim Community \u001b[32mv0.\u001b[0m\u001b[32m19.0\u001b[0m\n",
       "\n"
      ]
     },
     "metadata": {},
     "output_type": "display_data"
    },
    {
     "name": "stderr",
     "output_type": "stream",
     "text": [
      "C:\\Users\\defaultuser0.LAPTOP-LRB3T941\\AppData\\Local\\Temp\\ipykernel_21892\\1532562609.py:43: DeprecationWarning: This method is not guaranteed to stay around. Please prefer setting the attribute normally or with Mobject.set().\n",
      "  underline.set_width(title.width)\n",
      "                                                                            \r"
     ]
    },
    {
     "data": {
      "text/html": [
       "<video src=\"media\\jupyter\\DNATechnologyScene@2025-06-19@21-46-28.mp4\" controls autoplay loop style=\"max-width: 60%;\"  >\n",
       "      Your browser does not support the <code>video</code> element.\n",
       "    </video>"
      ],
      "text/plain": [
       "<IPython.core.display.Video object>"
      ]
     },
     "metadata": {},
     "output_type": "display_data"
    }
   ],
   "source": [
    "%manim -qm -v WARNING DNATechnologyScene"
   ]
  },
  {
   "cell_type": "code",
   "execution_count": 18,
   "id": "e636446d",
   "metadata": {},
   "outputs": [],
   "source": [
    "from manim import *\n",
    "\n",
    "class DNATechnologyScene(Scene):\n",
    "    def construct(self):\n",
    "        # Title text at the top\n",
    "        title = Text(\"DNA TECHNOLOGY\", font_size=48).to_edge(UP)\n",
    "        self.play(Write(title))\n",
    "\n",
    "        # List of state-of-the-art DNA technologies\n",
    "        technologies = [\n",
    "            \"CRISPR-Cas9\",\n",
    "            \"Gene Therapy\",\n",
    "            \"Synthetic Biology\",\n",
    "            \"DNA Sequencing\",\n",
    "            \"Epigenetic Editing\",\n",
    "            \"RNA Interference\",\n",
    "        ]\n",
    "\n",
    "        descriptions = {\n",
    "            \"CRISPR-Cas9\": \"Precise genome editing tool.\",\n",
    "            \"GeneTherapy\": \"Treats genetic disorders by altering genes.\",\n",
    "            \"SyntheticBiology\": \"Design and construct new biological parts.\",\n",
    "            \"DNASequencing\": \"Determines the order of DNA nucleotides.\",\n",
    "            \"EpigeneticEditing\": \"Modifies gene expression without altering DNA.\",\n",
    "            \"RNAInterference\": \"Silences specific gene expressions.\",\n",
    "        }\n",
    "\n",
    "        # Create a VGroup for the list\n",
    "        tech_list = VGroup(\n",
    "            *[Text(tech, font_size=36) for tech in technologies]\n",
    "        ).arrange(DOWN, aligned_edge=LEFT).next_to(title, DOWN, buff=1)\n",
    "\n",
    "        # Animate the list and add arrows with descriptions\n",
    "        for tech in tech_list:\n",
    "            self.play(FadeIn(tech, shift=UP))\n",
    "            arrow = Arrow(\n",
    "                start=tech.get_right(), \n",
    "                end=tech.get_right() + RIGHT * 1.5, \n",
    "                color=rgb_to_color([1, 1, 0])  # RGB color for customization\n",
    "            )\n",
    "            description = Text(\n",
    "                descriptions[tech.text], \n",
    "                font_size=24, \n",
    "                t2c={\"Precise\": YELLOW, \"Silences\": RED}  # Optional text coloring\n",
    "            ).next_to(arrow, RIGHT, buff=0.5).scale(0.8)\n",
    "            description.set_width(6)  # Ensure text fits within the screen\n",
    "            self.play(Create(arrow), Write(description))\n",
    "            self.wait(3)  # Pause for voiceover\n",
    "\n",
    "        # Add some design elements (optional)\n",
    "        underline = Line(start=LEFT, end=RIGHT, color=BLUE).next_to(title, DOWN)\n",
    "        underline.set_width(title.width)\n",
    "        self.play(Create(underline))\n",
    "\n",
    "        # Keep the scene for a few seconds\n",
    "        self.wait(3)\n"
   ]
  },
  {
   "cell_type": "code",
   "execution_count": 19,
   "id": "e5938fed",
   "metadata": {},
   "outputs": [
    {
     "data": {
      "text/html": [
       "<pre style=\"white-space:pre;overflow-x:auto;line-height:normal;font-family:Menlo,'DejaVu Sans Mono',consolas,'Courier New',monospace\">Manim Community <span style=\"color: #008000; text-decoration-color: #008000\">v0.19.0</span>\n",
       "\n",
       "</pre>\n"
      ],
      "text/plain": [
       "Manim Community \u001b[32mv0.\u001b[0m\u001b[32m19.0\u001b[0m\n",
       "\n"
      ]
     },
     "metadata": {},
     "output_type": "display_data"
    },
    {
     "name": "stderr",
     "output_type": "stream",
     "text": [
      "C:\\Users\\defaultuser0.LAPTOP-LRB3T941\\AppData\\Local\\Temp\\ipykernel_21892\\663756249.py:46: DeprecationWarning: This method is not guaranteed to stay around. Please prefer setting the attribute normally or with Mobject.set().\n",
      "  description.set_width(6)  # Ensure text fits within the screen\n",
      "C:\\Users\\defaultuser0.LAPTOP-LRB3T941\\AppData\\Local\\Temp\\ipykernel_21892\\663756249.py:52: DeprecationWarning: This method is not guaranteed to stay around. Please prefer setting the attribute normally or with Mobject.set().\n",
      "  underline.set_width(title.width)\n",
      "                                                                            \r"
     ]
    },
    {
     "data": {
      "text/html": [
       "<video src=\"media\\jupyter\\DNATechnologyScene@2025-06-19@21-54-31.mp4\" controls autoplay loop style=\"max-width: 60%;\"  >\n",
       "      Your browser does not support the <code>video</code> element.\n",
       "    </video>"
      ],
      "text/plain": [
       "<IPython.core.display.Video object>"
      ]
     },
     "metadata": {},
     "output_type": "display_data"
    }
   ],
   "source": [
    "%manim -qm -v WARNING DNATechnologyScene"
   ]
  },
  {
   "cell_type": "code",
   "execution_count": 24,
   "id": "c5b6c11f",
   "metadata": {},
   "outputs": [],
   "source": [
    "from manim import *\n",
    "\n",
    "class DNATechnologyScene(Scene):\n",
    "    def construct(self):\n",
    "        # Title text at the top\n",
    "        title = Text(\"DNA TECHNOLOGY\", font_size=48).to_edge(UP)\n",
    "        self.play(Write(title))\n",
    "\n",
    "        # List of state-of-the-art DNA technologies\n",
    "        technologies = [\n",
    "            \"CRISPR-Cas9\",\n",
    "            \"Gene Therapy\",\n",
    "            \"Synthetic Biology\",\n",
    "            \"DNA Sequencing\",\n",
    "            \"Epigenetic Editing\",\n",
    "            \"RNA Interference\",\n",
    "        ]\n",
    "\n",
    "        descriptions = {\n",
    "            \"CRISPR-Cas9\": \"Precise genome editing tool.\",\n",
    "            \"GeneTherapy\": \"Treats genetic disorders by altering genes.\",\n",
    "            \"SyntheticBiology\": \"Design and construct new biological parts.\",\n",
    "            \"DNASequencing\": \"Determines the order of DNA nucleotides.\",\n",
    "            \"EpigeneticEditing\": \"Modifies gene expression without altering DNA.\",\n",
    "            \"RNAInterference\": \"Silences specific gene expressions.\",\n",
    "        }\n",
    "\n",
    "        # Create a VGroup for the list and position it on the left\n",
    "        tech_list = VGroup(\n",
    "            *[Text(tech, font_size=36) for tech in technologies]\n",
    "        ).arrange(DOWN, aligned_edge=LEFT).to_edge(LEFT, buff=1)\n",
    "\n",
    "        # Animate the list and add arrows with descriptions\n",
    "        for i, tech in enumerate(tech_list):\n",
    "            self.play(FadeIn(tech, shift=UP))\n",
    "            arrow = Arrow(\n",
    "                start=tech.get_right(), \n",
    "                end=tech.get_right() + RIGHT * 2, \n",
    "                color=rgb_to_color([200, 200, 0])  # RGB color for customization\n",
    "            )\n",
    "            self.play(Create(arrow))\n",
    "\n",
    "            # Move description to the right side of the screen\n",
    "            description_box = Text(\n",
    "                descriptions[tech.text], \n",
    "                font_size=28, \n",
    "                t2c={\"Precise\": YELLOW, \"Silences\": RED}  # Optional text coloring\n",
    "            ).scale(0.8).next_to(arrow, RIGHT, buff=0.5)\n",
    "            self.play(Write(description_box))\n",
    "            self.wait(2)  # Pause for voiceover\n",
    "\n",
    "        # Add some design elements (optional)\n",
    "        underline = Line(start=LEFT, end=RIGHT, color=BLUE).next_to(title, DOWN)\n",
    "        underline.set_width(title.width)\n",
    "        self.play(Create(underline))\n",
    "\n",
    "        # Keep the scene for a few seconds\n",
    "        self.wait(3)\n"
   ]
  },
  {
   "cell_type": "code",
   "execution_count": 25,
   "id": "08f36db2",
   "metadata": {},
   "outputs": [
    {
     "data": {
      "text/html": [
       "<pre style=\"white-space:pre;overflow-x:auto;line-height:normal;font-family:Menlo,'DejaVu Sans Mono',consolas,'Courier New',monospace\">Manim Community <span style=\"color: #008000; text-decoration-color: #008000\">v0.19.0</span>\n",
       "\n",
       "</pre>\n"
      ],
      "text/plain": [
       "Manim Community \u001b[32mv0.\u001b[0m\u001b[32m19.0\u001b[0m\n",
       "\n"
      ]
     },
     "metadata": {},
     "output_type": "display_data"
    },
    {
     "name": "stderr",
     "output_type": "stream",
     "text": [
      "C:\\Users\\defaultuser0.LAPTOP-LRB3T941\\AppData\\Local\\Temp\\ipykernel_21892\\231326778.py:54: DeprecationWarning: This method is not guaranteed to stay around. Please prefer setting the attribute normally or with Mobject.set().\n",
      "  underline.set_width(title.width)\n",
      "                                                                            \r"
     ]
    },
    {
     "data": {
      "text/html": [
       "<video src=\"media\\jupyter\\DNATechnologyScene@2025-06-19@22-02-28.mp4\" controls autoplay loop style=\"max-width: 60%;\"  >\n",
       "      Your browser does not support the <code>video</code> element.\n",
       "    </video>"
      ],
      "text/plain": [
       "<IPython.core.display.Video object>"
      ]
     },
     "metadata": {},
     "output_type": "display_data"
    }
   ],
   "source": [
    "%manim -qm -v WARNING DNATechnologyScene"
   ]
  },
  {
   "cell_type": "code",
   "execution_count": 1,
   "id": "eceb085d",
   "metadata": {},
   "outputs": [],
   "source": [
    "img=r\"image_2025-06-19_22-42-09.png\""
   ]
  },
  {
   "cell_type": "code",
   "execution_count": 44,
   "id": "76d5b0d2",
   "metadata": {},
   "outputs": [],
   "source": [
    "\n",
    "class PersonalisedMedicineScene(Scene):\n",
    "    def construct(self):\n",
    "        # Heading at the top - this part was perfect.\n",
    "        heading = Text(\"Personalised Medicine\", font_size=48).to_edge(UP)\n",
    "        self.play(Write(heading))\n",
    "\n",
    "        # --- Fix for Image Position ---\n",
    "        # I've made the image slightly larger and positioned it against the\n",
    "        # left edge. This vertically centers it, which often looks better.\n",
    "        try:\n",
    "            image = ImageMobject(img)\n",
    "        except FileNotFoundError:\n",
    "            # If the image file is not found, use a placeholder to avoid an error\n",
    "            print(f\"Image file not found at '{img}'. Using a placeholder square.\")\n",
    "            image = Square(side_length=2.5, color=BLUE, fill_opacity=0.8)\n",
    "\n",
    "        image.set_height(3)  # Slightly larger for better visual balance\n",
    "        image.to_edge(LEFT, buff=1) # Position against the left edge with a buffer\n",
    "\n",
    "        self.play(FadeIn(image))\n",
    "        self.wait(0.5) # A small pause after the image appears\n",
    "\n",
    "        # --- Fix for Description Text: Using Paragraph ---\n",
    "        description_text = (\n",
    "            \"Personalised medicine tailors medical treatment to the individual characteristics \"\n",
    "            \"of each patient. By analyzing genetic, environmental, and lifestyle factors, \"\n",
    "            \"doctors can design more effective and targeted therapies, improving outcomes \"\n",
    "            \"and reducing side effects.\"\n",
    "        )\n",
    "\n",
    "        # Use Paragraph for automatic word-wrapping without changing font size.\n",
    "        # We define the width directly when creating it.\n",
    "        description = Paragraph(\n",
    "            description_text,\n",
    "            font_size=32,      # A more suitable size for a body of text\n",
    "            line_spacing=1.1,\n",
    "            width=7            # The width the paragraph should wrap at\n",
    "        )\n",
    "\n",
    "        # Position the description next to the image.\n",
    "        description.next_to(image, RIGHT, buff=0.75) # A slightly smaller buffer can look tidier\n",
    "        \n",
    "        # Align the top of the description with the top of the image.\n",
    "        description.align_to(image, UP)\n",
    "\n",
    "        self.play(Write(description))\n",
    "\n",
    "        self.wait(3)\n",
    "\n"
   ]
  },
  {
   "cell_type": "code",
   "execution_count": 45,
   "id": "1acd5fbb",
   "metadata": {},
   "outputs": [
    {
     "data": {
      "text/html": [
       "<pre style=\"white-space:pre;overflow-x:auto;line-height:normal;font-family:Menlo,'DejaVu Sans Mono',consolas,'Courier New',monospace\">Manim Community <span style=\"color: #008000; text-decoration-color: #008000\">v0.19.0</span>\n",
       "\n",
       "</pre>\n"
      ],
      "text/plain": [
       "Manim Community \u001b[32mv0.\u001b[0m\u001b[32m19.0\u001b[0m\n",
       "\n"
      ]
     },
     "metadata": {},
     "output_type": "display_data"
    },
    {
     "name": "stderr",
     "output_type": "stream",
     "text": [
      "C:\\Users\\defaultuser0.LAPTOP-LRB3T941\\AppData\\Local\\Temp\\ipykernel_21892\\1481388705.py:17: DeprecationWarning: This method is not guaranteed to stay around. Please prefer setting the attribute normally or with Mobject.set().\n",
      "  image.set_height(3)  # Slightly larger for better visual balance\n",
      "                                                                                               \r"
     ]
    },
    {
     "data": {
      "text/html": [
       "<video src=\"media\\jupyter\\PersonalisedMedicineScene@2025-06-19@23-05-57.mp4\" controls autoplay loop style=\"max-width: 60%;\"  >\n",
       "      Your browser does not support the <code>video</code> element.\n",
       "    </video>"
      ],
      "text/plain": [
       "<IPython.core.display.Video object>"
      ]
     },
     "metadata": {},
     "output_type": "display_data"
    }
   ],
   "source": [
    "%manim -qm -v WARNING PersonalisedMedicineScene"
   ]
  },
  {
   "cell_type": "code",
   "execution_count": 2,
   "id": "101476d7",
   "metadata": {},
   "outputs": [
    {
     "name": "stderr",
     "output_type": "stream",
     "text": [
      "d:\\ALL CODES\\MANIM VIDEO\\.venv\\Lib\\site-packages\\pydub\\utils.py:170: RuntimeWarning: Couldn't find ffmpeg or avconv - defaulting to ffmpeg, but may not work\n",
      "  warn(\"Couldn't find ffmpeg or avconv - defaulting to ffmpeg, but may not work\", RuntimeWarning)\n"
     ]
    }
   ],
   "source": [
    "from manim import *"
   ]
  },
  {
   "cell_type": "code",
   "execution_count": null,
   "id": "f4443bff",
   "metadata": {},
   "outputs": [],
   "source": [
    "class PersonalisedMedicineScenegemini2(Scene):\n",
    "    def construct(self):\n",
    "        # Heading\n",
    "        heading = Text(\"Personalised Medicine\", font_size=48).to_edge(UP)\n",
    "        self.play(Write(heading))\n",
    "\n",
    "        # Image on the left\n",
    "        try:\n",
    "            # This will load the image you specified above\n",
    "            image = ImageMobject(img)\n",
    "        except FileNotFoundError:\n",
    "            # If the image isn't found, this placeholder will be used.\n",
    "            # I've made it a rectangle to match your image's shape.\n",
    "            print(f\"Image file not found at '{img}'. Using a placeholder rectangle.\")\n",
    "            image = Rectangle(height=2.5, width=4.5, color=BLUE, fill_opacity=0.8)\n",
    "\n",
    "        image.set_height(3)\n",
    "        image.to_edge(LEFT, buff=1)\n",
    "\n",
    "        self.play(FadeIn(image))\n",
    "        self.wait(0.5)\n",
    "\n",
    "        # Description text\n",
    "        description_text = (\n",
    "            \"Personalised medicine tailors medical treatment to the individual characteristics \"\n",
    "            \"of each patient. By analyzing genetic, environmental, and lifestyle factors, \"\n",
    "            \"doctors can design more effective and targeted therapies, improving outcomes \"\n",
    "            \"and reducing side effects.\"\n",
    "        )\n",
    "\n",
    "        # --- THIS IS THE CRITICAL FIX ---\n",
    "        # We use Paragraph to create a text block that wraps automatically\n",
    "        # at a certain width, while keeping the font size you want.\n",
    "        description = Paragraph(\n",
    "            description_text,\n",
    "            font_size=28,      # Readable font size for a paragraph\n",
    "            line_spacing=1.1,\n",
    "            width=6.5          # Set the width for the text to wrap inside\n",
    "        )\n",
    "\n",
    "        # Position the paragraph next to the image\n",
    "        description.next_to(image, RIGHT, buff=0.75)\n",
    "        description.align_to(image, UP) # Align top of text with top of image\n",
    "\n",
    "        # The Write animation will now render the text correctly\n",
    "        self.play(Write(description))\n",
    "\n",
    "        self.wait(3)\n",
    "\n"
   ]
  },
  {
   "cell_type": "code",
   "execution_count": 3,
   "id": "8be8e6c1",
   "metadata": {},
   "outputs": [
    {
     "data": {
      "text/html": [
       "<pre style=\"white-space:pre;overflow-x:auto;line-height:normal;font-family:Menlo,'DejaVu Sans Mono',consolas,'Courier New',monospace\">Manim Community <span style=\"color: #008000; text-decoration-color: #008000\">v0.19.0</span>\n",
       "\n",
       "</pre>\n"
      ],
      "text/plain": [
       "Manim Community \u001b[32mv0.\u001b[0m\u001b[32m19.0\u001b[0m\n",
       "\n"
      ]
     },
     "metadata": {},
     "output_type": "display_data"
    },
    {
     "ename": "KeyError",
     "evalue": "'PersonalisedMedicineScenegemini2'",
     "output_type": "error",
     "traceback": [
      "\u001b[31m---------------------------------------------------------------------------\u001b[39m",
      "\u001b[31mKeyError\u001b[39m                                  Traceback (most recent call last)",
      "\u001b[36mCell\u001b[39m\u001b[36m \u001b[39m\u001b[32mIn[3]\u001b[39m\u001b[32m, line 1\u001b[39m\n\u001b[32m----> \u001b[39m\u001b[32m1\u001b[39m \u001b[43mget_ipython\u001b[49m\u001b[43m(\u001b[49m\u001b[43m)\u001b[49m\u001b[43m.\u001b[49m\u001b[43mrun_line_magic\u001b[49m\u001b[43m(\u001b[49m\u001b[33;43m'\u001b[39;49m\u001b[33;43mmanim\u001b[39;49m\u001b[33;43m'\u001b[39;49m\u001b[43m,\u001b[49m\u001b[43m \u001b[49m\u001b[33;43m'\u001b[39;49m\u001b[33;43m-qh -v WARNING PersonalisedMedicineScenegemini2\u001b[39;49m\u001b[33;43m'\u001b[39;49m\u001b[43m)\u001b[49m\n",
      "\u001b[36mFile \u001b[39m\u001b[32md:\\ALL CODES\\MANIM VIDEO\\.venv\\Lib\\site-packages\\IPython\\core\\interactiveshell.py:2488\u001b[39m, in \u001b[36mInteractiveShell.run_line_magic\u001b[39m\u001b[34m(self, magic_name, line, _stack_depth)\u001b[39m\n\u001b[32m   2486\u001b[39m     kwargs[\u001b[33m'\u001b[39m\u001b[33mlocal_ns\u001b[39m\u001b[33m'\u001b[39m] = \u001b[38;5;28mself\u001b[39m.get_local_scope(stack_depth)\n\u001b[32m   2487\u001b[39m \u001b[38;5;28;01mwith\u001b[39;00m \u001b[38;5;28mself\u001b[39m.builtin_trap:\n\u001b[32m-> \u001b[39m\u001b[32m2488\u001b[39m     result = \u001b[43mfn\u001b[49m\u001b[43m(\u001b[49m\u001b[43m*\u001b[49m\u001b[43margs\u001b[49m\u001b[43m,\u001b[49m\u001b[43m \u001b[49m\u001b[43m*\u001b[49m\u001b[43m*\u001b[49m\u001b[43mkwargs\u001b[49m\u001b[43m)\u001b[49m\n\u001b[32m   2490\u001b[39m \u001b[38;5;66;03m# The code below prevents the output from being displayed\u001b[39;00m\n\u001b[32m   2491\u001b[39m \u001b[38;5;66;03m# when using magics with decorator @output_can_be_silenced\u001b[39;00m\n\u001b[32m   2492\u001b[39m \u001b[38;5;66;03m# when the last Python token in the expression is a ';'.\u001b[39;00m\n\u001b[32m   2493\u001b[39m \u001b[38;5;28;01mif\u001b[39;00m \u001b[38;5;28mgetattr\u001b[39m(fn, magic.MAGIC_OUTPUT_CAN_BE_SILENCED, \u001b[38;5;28;01mFalse\u001b[39;00m):\n",
      "\u001b[36mFile \u001b[39m\u001b[32md:\\ALL CODES\\MANIM VIDEO\\.venv\\Lib\\site-packages\\manim\\utils\\ipython_magic.py:141\u001b[39m, in \u001b[36mManimMagic.manim\u001b[39m\u001b[34m(self, line, cell, local_ns)\u001b[39m\n\u001b[32m    138\u001b[39m     renderer = OpenGLRenderer()\n\u001b[32m    140\u001b[39m \u001b[38;5;28;01mtry\u001b[39;00m:\n\u001b[32m--> \u001b[39m\u001b[32m141\u001b[39m     SceneClass = \u001b[43mlocal_ns\u001b[49m\u001b[43m[\u001b[49m\u001b[43mconfig\u001b[49m\u001b[43m[\u001b[49m\u001b[33;43m\"\u001b[39;49m\u001b[33;43mscene_names\u001b[39;49m\u001b[33;43m\"\u001b[39;49m\u001b[43m]\u001b[49m\u001b[43m[\u001b[49m\u001b[32;43m0\u001b[39;49m\u001b[43m]\u001b[49m\u001b[43m]\u001b[49m\n\u001b[32m    142\u001b[39m     scene = SceneClass(renderer=renderer)\n\u001b[32m    143\u001b[39m     scene.render()\n",
      "\u001b[31mKeyError\u001b[39m: 'PersonalisedMedicineScenegemini2'"
     ]
    }
   ],
   "source": [
    "%manim -qh -v WARNING PersonalisedMedicineScenegemini2"
   ]
  },
  {
   "cell_type": "code",
   "execution_count": 109,
   "id": "85ce9b91",
   "metadata": {},
   "outputs": [],
   "source": [
    "class PersonalisedMedicineScenegemini(Scene):\n",
    "    def construct(self):\n",
    "        # Heading\n",
    "        heading = Text(\"Transhumanism\", font_size=48).to_edge(UP)\n",
    "        self.play(Write(heading))\n",
    "        \n",
    "        # Add underline to heading\n",
    "        underline = Line(start=LEFT, end=RIGHT, color=WHITE).next_to(heading, DOWN, buff=0.2)\n",
    "        underline.set_width(heading.width)\n",
    "        self.play(Create(underline))\n",
    "\n",
    "        # Image on the left - positioned lower\n",
    "        try:\n",
    "            image = ImageMobject(\"image_2025-06-19_22-42-09.png\")\n",
    "        except FileNotFoundError:\n",
    "            print(f\"Image file not found. Using a placeholder rectangle.\")\n",
    "            image = Rectangle(height=7.5, width=7.5, color=BLUE, fill_opacity=0.8)\n",
    "\n",
    "        image.set_height(3)\n",
    "        image.to_edge(LEFT)\n",
    "        image.shift(DOWN * 0.5)  # Move image lower\n",
    "\n",
    "        self.play(FadeIn(image))\n",
    "        self.wait(0.5)\n",
    "\n",
    "        # Description text - using single Text object with newlines and better spacing\n",
    "        description_text = \"\"\"Envisions a future where brain-computer interfaces  and genetic \n",
    "        enhancements create superhumans with near-immortal lifespans\n",
    "        and enhanced intellect, supported.\n",
    ".\"\"\"\n",
    "        \n",
    "        description = Text(description_text, font_size=28, line_spacing=2)\n",
    "        description.scale(0.8)  # Scale down to prevent overlap while maintaining spacing\n",
    "        description.set_width(4.5)  # Smaller width to ensure it fits\n",
    "        description.to_edge(RIGHT)  # Position from right edge with buffer\n",
    "        description.align_to(image, UP)\n",
    "        # Animate the description slower\n",
    "        self.play(Write(description), run_time=5)\n",
    "        self.wait(3)    "
   ]
  },
  {
   "cell_type": "code",
   "execution_count": 110,
   "id": "6a04d5d9",
   "metadata": {},
   "outputs": [
    {
     "data": {
      "text/html": [
       "<pre style=\"white-space:pre;overflow-x:auto;line-height:normal;font-family:Menlo,'DejaVu Sans Mono',consolas,'Courier New',monospace\">Manim Community <span style=\"color: #008000; text-decoration-color: #008000\">v0.19.0</span>\n",
       "\n",
       "</pre>\n"
      ],
      "text/plain": [
       "Manim Community \u001b[32mv0.\u001b[0m\u001b[32m19.0\u001b[0m\n",
       "\n"
      ]
     },
     "metadata": {},
     "output_type": "display_data"
    },
    {
     "name": "stderr",
     "output_type": "stream",
     "text": [
      "C:\\Users\\defaultuser0.LAPTOP-LRB3T941\\AppData\\Local\\Temp\\ipykernel_21892\\1956378257.py:9: DeprecationWarning: This method is not guaranteed to stay around. Please prefer setting the attribute normally or with Mobject.set().\n",
      "  underline.set_width(heading.width)\n",
      "C:\\Users\\defaultuser0.LAPTOP-LRB3T941\\AppData\\Local\\Temp\\ipykernel_21892\\1956378257.py:9: DeprecationWarning: This method is not guaranteed to stay around. Please prefer setting the attribute normally or with Mobject.set().\n",
      "  underline.set_width(heading.width)\n",
      "                                                                           C:\\Users\\defaultuser0.LAPTOP-LRB3T941\\AppData\\Local\\Temp\\ipykernel_21892\\1956378257.py:19: DeprecationWarning: This method is not guaranteed to stay around. Please prefer setting the attribute normally or with Mobject.set().\n",
      "  image.set_height(3)\n",
      "Animation 2: FadeIn(ImageMobject):   0%|          | 0/1 [00:00<?, ?it/s]C:\\Users\\defaultuser0.LAPTOP-LRB3T941\\AppData\\Local\\Temp\\ipykernel_21892\\1956378257.py:19: DeprecationWarning: This method is not guaranteed to stay around. Please prefer setting the attribute normally or with Mobject.set().\n",
      "  image.set_height(3)\n",
      "                                                                        C:\\Users\\defaultuser0.LAPTOP-LRB3T941\\AppData\\Local\\Temp\\ipykernel_21892\\1956378257.py:34: DeprecationWarning: This method is not guaranteed to stay around. Please prefer setting the attribute normally or with Mobject.set().\n",
      "  description.set_width(4.5)  # Smaller width to ensure it fits\n",
      "C:\\Users\\defaultuser0.LAPTOP-LRB3T941\\AppData\\Local\\Temp\\ipykernel_21892\\1956378257.py:34: DeprecationWarning: This method is not guaranteed to stay around. Please prefer setting the attribute normally or with Mobject.set().\n",
      "  description.set_width(4.5)  # Smaller width to ensure it fits\n",
      "                                                                                                                                                                                                                                                                    "
     ]
    },
    {
     "data": {
      "text/html": [
       "<video src=\"media\\jupyter\\PersonalisedMedicineScenegemini@2025-06-20@02-44-54.mp4\" controls autoplay loop style=\"max-width: 60%;\"  >\n",
       "      Your browser does not support the <code>video</code> element.\n",
       "    </video>"
      ],
      "text/plain": [
       "<IPython.core.display.Video object>"
      ]
     },
     "metadata": {},
     "output_type": "display_data"
    }
   ],
   "source": [
    "%manim -qh -v WARNING PersonalisedMedicineScenegemini"
   ]
  }
 ],
 "metadata": {
  "kernelspec": {
   "display_name": ".venv",
   "language": "python",
   "name": "python3"
  },
  "language_info": {
   "codemirror_mode": {
    "name": "ipython",
    "version": 3
   },
   "file_extension": ".py",
   "mimetype": "text/x-python",
   "name": "python",
   "nbconvert_exporter": "python",
   "pygments_lexer": "ipython3",
   "version": "3.11.9"
  }
 },
 "nbformat": 4,
 "nbformat_minor": 5
}
