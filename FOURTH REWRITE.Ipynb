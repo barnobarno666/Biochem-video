{
 "cells": [
  {
   "cell_type": "code",
   "execution_count": 1,
   "id": "e8a56078",
   "metadata": {},
   "outputs": [
    {
     "name": "stderr",
     "output_type": "stream",
     "text": [
      "d:\\ALL CODES\\MANIM VIDEO\\.venv\\Lib\\site-packages\\pydub\\utils.py:170: RuntimeWarning: Couldn't find ffmpeg or avconv - defaulting to ffmpeg, but may not work\n",
      "  warn(\"Couldn't find ffmpeg or avconv - defaulting to ffmpeg, but may not work\", RuntimeWarning)\n"
     ]
    }
   ],
   "source": [
    "from manim import *"
   ]
  },
  {
   "cell_type": "code",
   "execution_count": 13,
   "id": "66824efd",
   "metadata": {},
   "outputs": [],
   "source": [
    "class VideoTemplate4V1(Scene):\n",
    "    def construct(self):\n",
    "        # Create heading at the top\n",
    "        heading = Text(\"Personalised medicine\", font_size=48, color=BLUE)\n",
    "        heading.to_edge(UP, buff=0.8)\n",
    "        \n",
    "        # Create animated underline for heading\n",
    "        underline = Line(\n",
    "            start=heading.get_left() + DOWN * 0.3,\n",
    "            end=heading.get_right() + DOWN * 0.3,\n",
    "            color=BLUE,\n",
    "            stroke_width=3\n",
    "        )\n",
    "        \n",
    "        # Description text lines (on the right side)\n",
    "        description_lines = [\n",
    "            \"Personalised medicine tailors medical treatment to the \\n individual characteristics of each patient.\",\n",
    "            \"By analyzing genetic, environmental, and lifestyle factors \\n \" ,\n",
    "            \"Doctors can design more effective and targeted therapies \\n thus improving outcomes \" ,\n",
    "            \"and reducing side effects.\" ,\n",
    "            \"Several big hospitals have already partnered with big tech \\n companies to develop AI-driven \\n solutions for personalised medicine.\"\n",
    "            \n",
    "            ]\n",
    "        \n",
    "        # Create a rectangle to show the video area (left side)\n",
    "        # video_placeholder = Rectangle(\n",
    "        #     width=5, height=4, \n",
    "        #     color=GRAY, \n",
    "        #     fill_opacity=0.1,\n",
    "        #     stroke_opacity=0.3\n",
    "        # )\n",
    "        # video_placeholder.move_to(LEFT * 2.5)\n",
    "        \n",
    "        # Add placeholder text\n",
    "        # placeholder_text = Text(\"Video Area\\n(Empty for now)\", font_size=20, color=GRAY)\n",
    "        # placeholder_text.move_to(video_placeholder.get_center())\n",
    "        \n",
    "        # Animate the scene\n",
    "        self.play(Write(heading), run_time=1)\n",
    "        self.play(Create(underline), run_time=0.5)\n",
    "        \n",
    "        # Show video placeholder area\n",
    "        # self.play(Create(video_placeholder), Write(placeholder_text), run_time=1)\n",
    "        \n",
    "        # Animate description lines one by one from center, with Write animation\n",
    "        current_texts = []  # Keep track of currently displayed texts\n",
    "        \n",
    "        for i, line in enumerate(description_lines):\n",
    "            # Create text positioned on the right side\n",
    "            text_line = Text(line, font_size=24, color=WHITE)\n",
    "            \n",
    "            # Position based on current number of texts displayed\n",
    "            if len(current_texts) == 0:\n",
    "                # First text starts at center with buffer from right edge\n",
    "                text_line.to_edge(LEFT, buff=5.5)\n",
    "                text_line.shift(UP * 0.5)\n",
    "            else:\n",
    "                # Second text goes below the first\n",
    "                text_line.to_edge(LEFT, buff=5.5)\n",
    "                text_line.shift(DOWN * 0.9)\n",
    "                text_line.shift(UP * 0.5)\n",
    "            \n",
    "            # Write the text with animation (like heading)\n",
    "            self.play(Write(text_line), run_time=3)\n",
    "            current_texts.append(text_line)\n",
    "            self.wait(1)  # Stay on screen for 1 second\n",
    "            \n",
    "            # After every 2 texts, fade them out (except for the last one)\n",
    "            if len(current_texts) == 2 and i < len(description_lines) - 1:\n",
    "                self.wait(2)\n",
    "                self.play(*[FadeOut(text) for text in current_texts], run_time=0.5)\n",
    "                current_texts = []  # Clear the list\n",
    "        \n",
    "        # Keep everything on screen for final moments\n",
    "        self.wait(2)"
   ]
  },
  {
   "cell_type": "code",
   "execution_count": 14,
   "id": "f148d8f7",
   "metadata": {},
   "outputs": [
    {
     "data": {
      "text/html": [
       "<pre style=\"white-space:pre;overflow-x:auto;line-height:normal;font-family:Menlo,'DejaVu Sans Mono',consolas,'Courier New',monospace\">Manim Community <span style=\"color: #008000; text-decoration-color: #008000\">v0.19.0</span>\n",
       "\n",
       "</pre>\n"
      ],
      "text/plain": [
       "Manim Community \u001b[32mv0.\u001b[0m\u001b[32m19.0\u001b[0m\n",
       "\n"
      ]
     },
     "metadata": {},
     "output_type": "display_data"
    },
    {
     "name": "stderr",
     "output_type": "stream",
     "text": [
      "                                                                                                                                                                                                                    \r"
     ]
    },
    {
     "data": {
      "text/html": [
       "<video src=\"media\\jupyter\\VideoTemplate4V1@2025-06-22@20-25-39.mp4\" controls autoplay loop style=\"max-width: 60%;\"  >\n",
       "      Your browser does not support the <code>video</code> element.\n",
       "    </video>"
      ],
      "text/plain": [
       "<IPython.core.display.Video object>"
      ]
     },
     "metadata": {},
     "output_type": "display_data"
    }
   ],
   "source": [
    "%manim -qh -v WARNING VideoTemplate4V1"
   ]
  },
  {
   "cell_type": "code",
   "execution_count": 29,
   "id": "bbec145e",
   "metadata": {},
   "outputs": [],
   "source": [
    "class VideoTemplate5V2(Scene):\n",
    "    def construct(self):\n",
    "        # Create heading at the top\n",
    "        heading = Text(\"\", font_size=48, color=BLUE)\n",
    "        heading.to_edge(UP, buff=0.8)\n",
    "        \n",
    "        # Create animated underline for heading\n",
    "        underline = Line(\n",
    "            start=heading.get_left() + DOWN * 0.3,\n",
    "            end=heading.get_right() + DOWN * 0.3,\n",
    "            color=BLUE,\n",
    "            stroke_width=3\n",
    "        )\n",
    "        \n",
    "        # Description text lines (on the right side)\n",
    "        description_lines = [\n",
    "                    \"Due to ethical concerns, editing human embryos  \\n is not  allowed in most countries.\",\n",
    "            ]\n",
    "        \n",
    "        # Create a rectangle to show the video area (left side)\n",
    "        # video_placeholder = Rectangle(\n",
    "        #     width=5, height=4, \n",
    "        #     color=GRAY, \n",
    "        #     fill_opacity=0.1,\n",
    "        #     stroke_opacity=0.3\n",
    "        # )\n",
    "        # video_placeholder.move_to(LEFT * 2.5)\n",
    "        \n",
    "        # Add placeholder text\n",
    "        # placeholder_text = Text(\"Video Area\\n(Empty for now)\", font_size=20, color=GRAY)\n",
    "        # placeholder_text.move_to(video_placeholder.get_center())\n",
    "        \n",
    "        # Animate the scene\n",
    "        self.play(Write(heading), run_time=1)\n",
    "        self.play(Create(underline), run_time=0.5)\n",
    "        \n",
    "        # Show video placeholder area\n",
    "        # self.play(Create(video_placeholder), Write(placeholder_text), run_time=1)\n",
    "        \n",
    "        # Animate description lines one by one from center, with Write animation\n",
    "        current_texts = []  # Keep track of currently displayed texts\n",
    "        \n",
    "        for i, line in enumerate(description_lines):\n",
    "            # Create text positioned on the right side\n",
    "            text_line = Text(line, font_size=30, color=WHITE)\n",
    "            \n",
    "            # Position based on current number of texts displayed\n",
    "            if len(current_texts) == 0:\n",
    "                # First text starts at center with buffer from right edge\n",
    "                text_line.to_edge(LEFT, buff=5.5)\n",
    "                text_line.shift(UP * 0.5)\n",
    "            else:\n",
    "                # Second text goes below the first\n",
    "                text_line.to_edge(LEFT, buff=5.5)\n",
    "                text_line.shift(DOWN * 0.9)\n",
    "                text_line.shift(UP * 0.5)\n",
    "            \n",
    "            # Write the text with animation (like heading)\n",
    "            self.play(Write(text_line), run_time=3)\n",
    "            current_texts.append(text_line)\n",
    "            self.wait(1)  # Stay on screen for 1 second\n",
    "            \n",
    "            # After every 2 texts, fade them out (except for the last one)\n",
    "            if len(current_texts) == 2 and i < len(description_lines) - 1:\n",
    "                self.wait(3)\n",
    "                self.play(*[FadeOut(text) for text in current_texts], run_time=0.5)\n",
    "                current_texts = []  # Clear the list\n",
    "        \n",
    "        # Keep everything on screen for final moments\n",
    "        self.wait(2)"
   ]
  },
  {
   "cell_type": "code",
   "execution_count": 30,
   "id": "64ba5f0b",
   "metadata": {},
   "outputs": [
    {
     "data": {
      "text/html": [
       "<pre style=\"white-space:pre;overflow-x:auto;line-height:normal;font-family:Menlo,'DejaVu Sans Mono',consolas,'Courier New',monospace\">Manim Community <span style=\"color: #008000; text-decoration-color: #008000\">v0.19.0</span>\n",
       "\n",
       "</pre>\n"
      ],
      "text/plain": [
       "Manim Community \u001b[32mv0.\u001b[0m\u001b[32m19.0\u001b[0m\n",
       "\n"
      ]
     },
     "metadata": {},
     "output_type": "display_data"
    },
    {
     "name": "stderr",
     "output_type": "stream",
     "text": [
      "                                                                                                                                                                    \r"
     ]
    },
    {
     "data": {
      "text/html": [
       "<video src=\"media\\jupyter\\VideoTemplate5V2@2025-06-22@21-08-49.mp4\" controls autoplay loop style=\"max-width: 60%;\"  >\n",
       "      Your browser does not support the <code>video</code> element.\n",
       "    </video>"
      ],
      "text/plain": [
       "<IPython.core.display.Video object>"
      ]
     },
     "metadata": {},
     "output_type": "display_data"
    }
   ],
   "source": [
    "%manim -qh -v WARNING VideoTemplate5V2"
   ]
  },
  {
   "cell_type": "markdown",
   "id": "96475909",
   "metadata": {},
   "source": [
    "Colossal Biosciences used CRISPR to edit 14 genes in gray wolf cells with dire wolf DNA, cloning them via surrogate dogs to create three pups"
   ]
  },
  {
   "cell_type": "code",
   "execution_count": 25,
   "id": "dc90d478",
   "metadata": {},
   "outputs": [],
   "source": [
    "class VideoTemplate6V1(Scene):\n",
    "    def construct(self):\n",
    "        # Create heading at the top\n",
    "        heading = Text(\"\", font_size=48, color=BLUE)\n",
    "        heading.to_edge(UP, buff=0.8)\n",
    "        \n",
    "        # Create animated underline for heading\n",
    "        underline = Line(\n",
    "            start=heading.get_left() + DOWN * 0.3,\n",
    "            end=heading.get_right() + DOWN * 0.3,\n",
    "            color=BLUE,\n",
    "            stroke_width=3\n",
    "        )\n",
    "        \n",
    "        # Description text lines (on the right side)\n",
    "        description_lines = [\n",
    "                    \"In April of 2025, a company named Colossal Biosciences \\n announced the birth of three genetically engineered \\n wolf pups.\",\n",
    "                    \"Using CRISPR to edit 14 genes in gray wolf cells with \\n dire wolf DNA \",\n",
    "                    \"These genetically engineered wolf pups were claimed as \\n the first  dire wolves in over 12,000 years\"\n",
    "            ]\n",
    "        \n",
    "        # Create a rectangle to show the video area (left side)\n",
    "        # video_placeholder = Rectangle(\n",
    "        #     width=5, height=4, \n",
    "        #     color=GRAY, \n",
    "        #     fill_opacity=0.1,\n",
    "        #     stroke_opacity=0.3\n",
    "        # )\n",
    "        # video_placeholder.move_to(LEFT * 2.5)\n",
    "        \n",
    "        # Add placeholder text\n",
    "        # placeholder_text = Text(\"Video Area\\n(Empty for now)\", font_size=20, color=GRAY)\n",
    "        # placeholder_text.move_to(video_placeholder.get_center())\n",
    "        \n",
    "        # Animate the scene\n",
    "        self.play(Write(heading), run_time=1)\n",
    "        self.play(Create(underline), run_time=0.5)\n",
    "        \n",
    "        # Show video placeholder area\n",
    "        # self.play(Create(video_placeholder), Write(placeholder_text), run_time=1)\n",
    "        \n",
    "        # Animate description lines one by one from center, with Write animation\n",
    "        current_texts = []  # Keep track of currently displayed texts\n",
    "        \n",
    "        for i, line in enumerate(description_lines):\n",
    "            # Create text positioned on the right side\n",
    "            text_line = Text(line, font_size=24, color=WHITE)\n",
    "            \n",
    "            # Position based on current number of texts displayed\n",
    "            if len(current_texts) == 0:\n",
    "                # First text starts at center with buffer from right edge\n",
    "                text_line.to_edge(LEFT, buff=5.5)\n",
    "                text_line.shift(UP * 0.5)\n",
    "            else:\n",
    "                # Second text goes below the first\n",
    "                text_line.to_edge(LEFT, buff=5.5)\n",
    "                text_line.shift(DOWN * 0.9)\n",
    "                text_line.shift(UP * 0.5)\n",
    "            \n",
    "            # Write the text with animation (like heading)\n",
    "            self.play(Write(text_line), run_time=3)\n",
    "            current_texts.append(text_line)\n",
    "            self.wait(1)  # Stay on screen for 1 second\n",
    "            \n",
    "            # After every 2 texts, fade them out (except for the last one)\n",
    "            if len(current_texts) == 2 and i < len(description_lines) - 1:\n",
    "                self.wait(3)\n",
    "                self.play(*[FadeOut(text) for text in current_texts], run_time=0.5)\n",
    "                current_texts = []  # Clear the list\n",
    "        \n",
    "        # Keep everything on screen for final moments\n",
    "        self.wait(2)"
   ]
  },
  {
   "cell_type": "code",
   "execution_count": 27,
   "id": "6b29508e",
   "metadata": {},
   "outputs": [
    {
     "data": {
      "text/html": [
       "<pre style=\"white-space:pre;overflow-x:auto;line-height:normal;font-family:Menlo,'DejaVu Sans Mono',consolas,'Courier New',monospace\">Manim Community <span style=\"color: #008000; text-decoration-color: #008000\">v0.19.0</span>\n",
       "\n",
       "</pre>\n"
      ],
      "text/plain": [
       "Manim Community \u001b[32mv0.\u001b[0m\u001b[32m19.0\u001b[0m\n",
       "\n"
      ]
     },
     "metadata": {},
     "output_type": "display_data"
    },
    {
     "name": "stderr",
     "output_type": "stream",
     "text": [
      "                                                                                                                                                                                                                \r"
     ]
    },
    {
     "data": {
      "text/html": [
       "<video src=\"media\\jupyter\\VideoTemplate6V1@2025-06-22@21-03-50.mp4\" controls autoplay loop style=\"max-width: 60%;\"  >\n",
       "      Your browser does not support the <code>video</code> element.\n",
       "    </video>"
      ],
      "text/plain": [
       "<IPython.core.display.Video object>"
      ]
     },
     "metadata": {},
     "output_type": "display_data"
    }
   ],
   "source": [
    "%manim -qh -v WARNING VideoTemplate6V1"
   ]
  },
  {
   "cell_type": "code",
   "execution_count": null,
   "id": "44b4f398",
   "metadata": {},
   "outputs": [],
   "source": []
  },
  {
   "cell_type": "code",
   "execution_count": 38,
   "id": "9fb8f6e0",
   "metadata": {},
   "outputs": [],
   "source": [
    "class Transition4(Scene):\n",
    "        def construct(self):\n",
    "                heading = Text(\"Futuristic Vision for DNA Technology\", font_size=54, color=BLUE)\n",
    "                heading.to_edge(UP, buff=4)\n",
    "                self.play(Write(heading), run_time=3)"
   ]
  },
  {
   "cell_type": "code",
   "execution_count": 39,
   "id": "3829e93c",
   "metadata": {},
   "outputs": [
    {
     "data": {
      "text/html": [
       "<pre style=\"white-space:pre;overflow-x:auto;line-height:normal;font-family:Menlo,'DejaVu Sans Mono',consolas,'Courier New',monospace\">Manim Community <span style=\"color: #008000; text-decoration-color: #008000\">v0.19.0</span>\n",
       "\n",
       "</pre>\n"
      ],
      "text/plain": [
       "Manim Community \u001b[32mv0.\u001b[0m\u001b[32m19.0\u001b[0m\n",
       "\n"
      ]
     },
     "metadata": {},
     "output_type": "display_data"
    },
    {
     "name": "stderr",
     "output_type": "stream",
     "text": [
      "                                                                                                                   \r"
     ]
    },
    {
     "data": {
      "text/html": [
       "<video src=\"media\\jupyter\\Transition4@2025-06-22@22-31-24.mp4\" controls autoplay loop style=\"max-width: 60%;\"  >\n",
       "      Your browser does not support the <code>video</code> element.\n",
       "    </video>"
      ],
      "text/plain": [
       "<IPython.core.display.Video object>"
      ]
     },
     "metadata": {},
     "output_type": "display_data"
    }
   ],
   "source": [
    "%manim -qh -v WARNING Transition4"
   ]
  },
  {
   "cell_type": "code",
   "execution_count": 41,
   "id": "e33cfad3",
   "metadata": {},
   "outputs": [],
   "source": [
    "class Transition5(Scene):\n",
    "        def construct(self):\n",
    "                heading = Text(\"Applications of DNA Technology\", font_size=54, color=BLUE)\n",
    "                heading.to_edge(UP, buff=4)\n",
    "                self.play(Write(heading), run_time=3)"
   ]
  },
  {
   "cell_type": "code",
   "execution_count": 42,
   "id": "6ab16219",
   "metadata": {},
   "outputs": [
    {
     "data": {
      "text/html": [
       "<pre style=\"white-space:pre;overflow-x:auto;line-height:normal;font-family:Menlo,'DejaVu Sans Mono',consolas,'Courier New',monospace\">Manim Community <span style=\"color: #008000; text-decoration-color: #008000\">v0.19.0</span>\n",
       "\n",
       "</pre>\n"
      ],
      "text/plain": [
       "Manim Community \u001b[32mv0.\u001b[0m\u001b[32m19.0\u001b[0m\n",
       "\n"
      ]
     },
     "metadata": {},
     "output_type": "display_data"
    },
    {
     "name": "stderr",
     "output_type": "stream",
     "text": [
      "                                                                                                             \r"
     ]
    },
    {
     "data": {
      "text/html": [
       "<video src=\"media\\jupyter\\Transition5@2025-06-22@22-32-32.mp4\" controls autoplay loop style=\"max-width: 60%;\"  >\n",
       "      Your browser does not support the <code>video</code> element.\n",
       "    </video>"
      ],
      "text/plain": [
       "<IPython.core.display.Video object>"
      ]
     },
     "metadata": {},
     "output_type": "display_data"
    }
   ],
   "source": [
    "%manim -qh -v WARNING Transition5"
   ]
  },
  {
   "cell_type": "code",
   "execution_count": 44,
   "id": "89fa3870",
   "metadata": {},
   "outputs": [],
   "source": [
    "class Transition6(Scene):\n",
    "        def construct(self):\n",
    "                heading = Text(\"Thank you\", font_size=54, color=BLUE)\n",
    "                heading.to_edge(UP, buff=4)\n",
    "                self.play(Write(heading), run_time=3)"
   ]
  },
  {
   "cell_type": "code",
   "execution_count": 45,
   "id": "2ecbeca0",
   "metadata": {},
   "outputs": [
    {
     "data": {
      "text/html": [
       "<pre style=\"white-space:pre;overflow-x:auto;line-height:normal;font-family:Menlo,'DejaVu Sans Mono',consolas,'Courier New',monospace\">Manim Community <span style=\"color: #008000; text-decoration-color: #008000\">v0.19.0</span>\n",
       "\n",
       "</pre>\n"
      ],
      "text/plain": [
       "Manim Community \u001b[32mv0.\u001b[0m\u001b[32m19.0\u001b[0m\n",
       "\n"
      ]
     },
     "metadata": {},
     "output_type": "display_data"
    },
    {
     "name": "stderr",
     "output_type": "stream",
     "text": [
      "                                                                                        \r"
     ]
    },
    {
     "data": {
      "text/html": [
       "<video src=\"media\\jupyter\\Transition6@2025-06-22@22-38-35.mp4\" controls autoplay loop style=\"max-width: 60%;\"  >\n",
       "      Your browser does not support the <code>video</code> element.\n",
       "    </video>"
      ],
      "text/plain": [
       "<IPython.core.display.Video object>"
      ]
     },
     "metadata": {},
     "output_type": "display_data"
    }
   ],
   "source": [
    "%manim -qh -v WARNING Transition6"
   ]
  },
  {
   "cell_type": "code",
   "execution_count": 1,
   "id": "f51c2857",
   "metadata": {},
   "outputs": [
    {
     "name": "stderr",
     "output_type": "stream",
     "text": [
      "d:\\ALL CODES\\MANIM VIDEO\\.venv\\Lib\\site-packages\\pydub\\utils.py:170: RuntimeWarning: Couldn't find ffmpeg or avconv - defaulting to ffmpeg, but may not work\n",
      "  warn(\"Couldn't find ffmpeg or avconv - defaulting to ffmpeg, but may not work\", RuntimeWarning)\n"
     ]
    }
   ],
   "source": [
    "from manim import *"
   ]
  },
  {
   "cell_type": "markdown",
   "id": "19153cbb",
   "metadata": {},
   "source": [
    "Living beings are predominantly made of proteins. Proteins control our hairstyle, the color of our eyes, our hormones, enzymes all are proteins. \n",
    "Proteins are made from “genes”, specific sections in the DNA. \n",
    "If we can “edit” the DNA, and thus genes, and thus proteins, we can alter many aspects of an organism, be that human beings, or some other. \n"
   ]
  },
  {
   "cell_type": "code",
   "execution_count": 5,
   "id": "f61425b5",
   "metadata": {},
   "outputs": [],
   "source": [
    "class VideoTemplate7V1(Scene):\n",
    "    def construct(self):\n",
    "        # Create heading at the top\n",
    "        heading = Text(\"\", font_size=48, color=BLUE)\n",
    "        heading.to_edge(UP, buff=0.8)\n",
    "        \n",
    "        # Create animated underline for heading\n",
    "        underline = Line(\n",
    "            start=heading.get_left() + DOWN * 0.3,\n",
    "            end=heading.get_right() + DOWN * 0.3,\n",
    "            color=BLUE,\n",
    "            stroke_width=3\n",
    "        )\n",
    "        \n",
    "        # Description text lines (on the right side)\n",
    "        description_lines = [\n",
    "                    \"Living beings are predominantly made of proteins.\",\n",
    "                    \"Proteins control our hairstyle, the color of our eyes, \\n  our hormones, enzymes all are proteins. \",\n",
    "                    \"Proteins are made from “genes”, specific sections in the \\n DNA\" , \n",
    "                    \"If we can “edit” the DNA, and thus genes, and thus \\n proteins, we can alter many aspects of an organism\",\n",
    "                    \"be that human beings, or some other.\" \n",
    "\n",
    "                    \n",
    "            ]\n",
    "        \n",
    "        # Create a rectangle to show the video area (left side)\n",
    "        # video_placeholder = Rectangle(\n",
    "        #     width=5, height=4, \n",
    "        #     color=GRAY, \n",
    "        #     fill_opacity=0.1,\n",
    "        #     stroke_opacity=0.3\n",
    "        # )\n",
    "        # video_placeholder.move_to(LEFT * 2.5)\n",
    "        \n",
    "        # Add placeholder text\n",
    "        # placeholder_text = Text(\"Video Area\\n(Empty for now)\", font_size=20, color=GRAY)\n",
    "        # placeholder_text.move_to(video_placeholder.get_center())\n",
    "        \n",
    "        # Animate the scene\n",
    "        self.play(Write(heading), run_time=1)\n",
    "        self.play(Create(underline), run_time=0.5)\n",
    "        \n",
    "        # Show video placeholder area\n",
    "        # self.play(Create(video_placeholder), Write(placeholder_text), run_time=1)\n",
    "        \n",
    "        # Animate description lines one by one from center, with Write animation\n",
    "        current_texts = []  # Keep track of currently displayed texts\n",
    "        \n",
    "        for i, line in enumerate(description_lines):\n",
    "            # Create text positioned on the right side\n",
    "            text_line = Text(line, font_size=24, color=WHITE)\n",
    "            \n",
    "            # Position based on current number of texts displayed\n",
    "            if len(current_texts) == 0:\n",
    "                # First text starts at center with buffer from right edge\n",
    "                text_line.to_edge(LEFT, buff=5.5)\n",
    "                text_line.shift(UP * 0.5)\n",
    "            else:\n",
    "                # Second text goes below the first\n",
    "                text_line.to_edge(LEFT, buff=5.5)\n",
    "                text_line.shift(DOWN * 0.9)\n",
    "                text_line.shift(UP * 0.5)\n",
    "            \n",
    "            # Write the text with animation (like heading)\n",
    "            self.play(Write(text_line), run_time=3)\n",
    "            current_texts.append(text_line)\n",
    "            self.wait(1)  # Stay on screen for 1 second\n",
    "            \n",
    "            # After every 2 texts, fade them out (except for the last one)\n",
    "            if len(current_texts) == 2 and i < len(description_lines) - 1:\n",
    "                self.wait(3)\n",
    "                self.play(*[FadeOut(text) for text in current_texts], run_time=0.5)\n",
    "                current_texts = []  # Clear the list\n",
    "        \n",
    "        # Keep everything on screen for final moments\n",
    "        self.wait(2)"
   ]
  },
  {
   "cell_type": "code",
   "execution_count": 4,
   "id": "01160fd5",
   "metadata": {},
   "outputs": [
    {
     "data": {
      "text/html": [
       "<pre style=\"white-space:pre;overflow-x:auto;line-height:normal;font-family:Menlo,'DejaVu Sans Mono',consolas,'Courier New',monospace\">Manim Community <span style=\"color: #008000; text-decoration-color: #008000\">v0.19.0</span>\n",
       "\n",
       "</pre>\n"
      ],
      "text/plain": [
       "Manim Community \u001b[32mv0.\u001b[0m\u001b[32m19.0\u001b[0m\n",
       "\n"
      ]
     },
     "metadata": {},
     "output_type": "display_data"
    },
    {
     "name": "stderr",
     "output_type": "stream",
     "text": [
      "                                                                                                                                                                                                                           \r"
     ]
    },
    {
     "data": {
      "text/html": [
       "<video src=\"media\\jupyter\\VideoTemplate7V1@2025-06-23@21-59-53.mp4\" controls autoplay loop style=\"max-width: 60%;\"  >\n",
       "      Your browser does not support the <code>video</code> element.\n",
       "    </video>"
      ],
      "text/plain": [
       "<IPython.core.display.Video object>"
      ]
     },
     "metadata": {},
     "output_type": "display_data"
    }
   ],
   "source": [
    "%manim -qm -v WARNING VideoTemplate7V1"
   ]
  },
  {
   "cell_type": "code",
   "execution_count": 2,
   "id": "1d42e4c0",
   "metadata": {},
   "outputs": [
    {
     "name": "stderr",
     "output_type": "stream",
     "text": [
      "d:\\ALL CODES\\MANIM VIDEO\\.venv\\Lib\\site-packages\\pydub\\utils.py:170: RuntimeWarning: Couldn't find ffmpeg or avconv - defaulting to ffmpeg, but may not work\n",
      "  warn(\"Couldn't find ffmpeg or avconv - defaulting to ffmpeg, but may not work\", RuntimeWarning)\n"
     ]
    }
   ],
   "source": [
    "from manim import *"
   ]
  },
  {
   "cell_type": "code",
   "execution_count": null,
   "id": "3a31cbdf",
   "metadata": {},
   "outputs": [],
   "source": [
    "class vIDEOgENERHERAPY(Scene):\n",
    "    def construct(self):\n",
    "        # Create heading at the top\n",
    "        heading = Text(\"Gene Therapy\", font_size=48, color=BLUE)\n",
    "        heading.to_edge(UP, buff=0.8)\n",
    "        \n",
    "        # Create animated underline for heading\n",
    "        underline = Line(\n",
    "            start=heading.get_left() + DOWN * 0.3,\n",
    "            end=heading.get_right() + DOWN * 0.3,\n",
    "            color=BLUE,\n",
    "            stroke_width=3\n",
    "        )\n",
    "        \n",
    "        # Description text lines (on the right side)\n",
    "        description_lines = [\n",
    "                            \"In the lab, a gene with the correct DNA information\",\n",
    "                            \"is inserted into a Vector which functions as a  delivery \\n vehicle.\", \n",
    "                            \"With one simple injection,\",\n",
    "                            \"vectors can deliver the corrected gene to the right place\",\n",
    "                            \"Thus restoring normal function.\",\n",
    "                           \n",
    "                    \n",
    "            ]\n",
    "        \n",
    "        # Create a rectangle to show the video area (left side)\n",
    "        # video_placeholder = Rectangle(\n",
    "        #     width=5, height=4, \n",
    "        #     color=GRAY, \n",
    "        #     fill_opacity=0.1,\n",
    "        #     stroke_opacity=0.3\n",
    "        # )\n",
    "        # video_placeholder.move_to(LEFT * 2.5)\n",
    "        \n",
    "        # Add placeholder text\n",
    "        # placeholder_text = Text(\"Video Area\\n(Empty for now)\", font_size=20, color=GRAY)\n",
    "        # placeholder_text.move_to(video_placeholder.get_center())\n",
    "        \n",
    "        # Animate the scene\n",
    "        self.play(Write(heading), run_time=1)\n",
    "        self.play(Create(underline), run_time=0.5)\n",
    "        \n",
    "        # Show video placeholder area\n",
    "        # self.play(Create(video_placeholder), Write(placeholder_text), run_time=1)\n",
    "        \n",
    "        # Animate description lines one by one from center, with Write animation\n",
    "        current_texts = []  # Keep track of currently displayed texts\n",
    "        \n",
    "        for i, line in enumerate(description_lines):\n",
    "            # Create text positioned on the right side\n",
    "            text_line = Text(line, font_size=24, color=WHITE)\n",
    "            \n",
    "            # Position based on current number of texts displayed\n",
    "            if len(current_texts) == 0:\n",
    "                # First text starts at center with buffer from right edge\n",
    "                text_line.to_edge(LEFT, buff=5.5)\n",
    "                text_line.shift(UP * 0.5)\n",
    "            else:\n",
    "                # Second text goes below the first\n",
    "                text_line.to_edge(LEFT, buff=5.5)\n",
    "                text_line.shift(DOWN * 0.9)\n",
    "                text_line.shift(UP * 0.5)\n",
    "            \n",
    "            # Write the text with animation (like heading)\n",
    "            self.play(Write(text_line), run_time=3)\n",
    "            current_texts.append(text_line)\n",
    "            self.wait(1)  # Stay on screen for 1 second\n",
    "            \n",
    "            # After every 2 texts, fade them out (except for the last one)\n",
    "            if len(current_texts) == 2 and i < len(description_lines) - 1:\n",
    "                self.wait(1)\n",
    "                self.play(*[FadeOut(text) for text in current_texts], run_time=.75)\n",
    "                current_texts = []  # Clear the list\n",
    "        \n",
    "        # Keep everything on screen for final moments\n",
    "        self.wait(2)"
   ]
  },
  {
   "cell_type": "code",
   "execution_count": 30,
   "id": "8ed8d607",
   "metadata": {},
   "outputs": [
    {
     "data": {
      "text/html": [
       "<pre style=\"white-space:pre;overflow-x:auto;line-height:normal;font-family:Menlo,'DejaVu Sans Mono',consolas,'Courier New',monospace\">Manim Community <span style=\"color: #008000; text-decoration-color: #008000\">v0.19.0</span>\n",
       "\n",
       "</pre>\n"
      ],
      "text/plain": [
       "Manim Community \u001b[32mv0.\u001b[0m\u001b[32m19.0\u001b[0m\n",
       "\n"
      ]
     },
     "metadata": {},
     "output_type": "display_data"
    },
    {
     "name": "stderr",
     "output_type": "stream",
     "text": [
      "                                                                                                                                                   \r"
     ]
    },
    {
     "data": {
      "text/html": [
       "<video src=\"media\\jupyter\\vIDEOgENERHERAPY@2025-06-27@12-46-05.mp4\" controls autoplay loop style=\"max-width: 60%;\"  >\n",
       "      Your browser does not support the <code>video</code> element.\n",
       "    </video>"
      ],
      "text/plain": [
       "<IPython.core.display.Video object>"
      ]
     },
     "metadata": {},
     "output_type": "display_data"
    }
   ],
   "source": [
    "%manim -qh -v WARNING vIDEOgENERHERAPY"
   ]
  },
  {
   "cell_type": "code",
   "execution_count": null,
   "id": "68c16392",
   "metadata": {},
   "outputs": [],
   "source": []
  }
 ],
 "metadata": {
  "kernelspec": {
   "display_name": ".venv",
   "language": "python",
   "name": "python3"
  },
  "language_info": {
   "codemirror_mode": {
    "name": "ipython",
    "version": 3
   },
   "file_extension": ".py",
   "mimetype": "text/x-python",
   "name": "python",
   "nbconvert_exporter": "python",
   "pygments_lexer": "ipython3",
   "version": "3.11.9"
  }
 },
 "nbformat": 4,
 "nbformat_minor": 5
}
