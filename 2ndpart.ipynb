{
 "cells": [
  {
   "cell_type": "code",
   "execution_count": 1,
   "id": "f12ef5f8",
   "metadata": {},
   "outputs": [
    {
     "name": "stderr",
     "output_type": "stream",
     "text": [
      "d:\\ALL CODES\\MANIM VIDEO\\.venv\\Lib\\site-packages\\pydub\\utils.py:170: RuntimeWarning: Couldn't find ffmpeg or avconv - defaulting to ffmpeg, but may not work\n",
      "  warn(\"Couldn't find ffmpeg or avconv - defaulting to ffmpeg, but may not work\", RuntimeWarning)\n"
     ]
    }
   ],
   "source": [
    "from manim import *"
   ]
  },
  {
   "cell_type": "code",
   "execution_count": 53,
   "id": "7ef3fe2e",
   "metadata": {},
   "outputs": [],
   "source": [
    "class VideoTemplate1V3(Scene):\n",
    "    def construct(self):\n",
    "        # Create heading at the top\n",
    "        heading = Text(\"Synthetic Bacteria\", font_size=48, color=BLUE)\n",
    "        heading.to_edge(UP, buff=0.8)\n",
    "        \n",
    "        # Create animated underline for heading\n",
    "        underline = Line(\n",
    "            start=heading.get_left() + DOWN * 0.3,\n",
    "            end=heading.get_right() + DOWN * 0.3,\n",
    "            color=BLUE,\n",
    "            stroke_width=3\n",
    "        )\n",
    "        \n",
    "        # Description text lines (on the right side)\n",
    "        description_lines = [\n",
    "            \"There are many mind blowing applications of \\n recombinant DNA tech\",\n",
    "            \"one of them is the making of Synthetic Bacteria.\",\n",
    "            \"Scientists created a bacterium “Mycoplasma laboratorium” \\n  with an entirely synthetic genome\",\n",
    "            \"It can replicate and carry out  cell functions \\n based on man-made DNA.\",\n",
    "            \"In 2023, synthetic biologists engineered E. coli \\n to produce taxol-like compounds\",\n",
    "            \"These are used in cancer chemotherapy\"\n",
    "        ]\n",
    "        \n",
    "        # Create a rectangle to show the video area (left side)\n",
    "        # video_placeholder = Rectangle(\n",
    "        #     width=5, height=4, \n",
    "        #     color=GRAY, \n",
    "        #     fill_opacity=0.1,\n",
    "        #     stroke_opacity=0.3\n",
    "        # )\n",
    "        # video_placeholder.move_to(LEFT * 2.5)\n",
    "        \n",
    "        # Add placeholder text\n",
    "        # placeholder_text = Text(\"Video Area\\n(Empty for now)\", font_size=20, color=GRAY)\n",
    "        # placeholder_text.move_to(video_placeholder.get_center())\n",
    "        \n",
    "        # Animate the scene\n",
    "        self.play(Write(heading), run_time=1)\n",
    "        self.play(Create(underline), run_time=0.5)\n",
    "        \n",
    "        # Show video placeholder area\n",
    "        # self.play(Create(video_placeholder), Write(placeholder_text), run_time=1)\n",
    "        \n",
    "        # Animate description lines one by one from center, with Write animation\n",
    "        current_texts = []  # Keep track of currently displayed texts\n",
    "        \n",
    "        for i, line in enumerate(description_lines):\n",
    "            # Create text positioned on the right side\n",
    "            text_line = Text(line, font_size=24, color=WHITE)\n",
    "            \n",
    "            # Position based on current number of texts displayed\n",
    "            if len(current_texts) == 0:\n",
    "                # First text starts at center with buffer from right edge\n",
    "                text_line.to_edge(LEFT, buff=5.5)\n",
    "                text_line.shift(UP * 0.5)\n",
    "            else:\n",
    "                # Second text goes below the first\n",
    "                text_line.to_edge(LEFT, buff=5.5)\n",
    "                text_line.shift(DOWN * 0.6)\n",
    "                text_line.shift(UP * 0.5)\n",
    "            \n",
    "            # Write the text with animation (like heading)\n",
    "            self.play(Write(text_line), run_time=3)\n",
    "            current_texts.append(text_line)\n",
    "            self.wait(1)  # Stay on screen for 1 second\n",
    "            \n",
    "            # After every 2 texts, fade them out (except for the last one)\n",
    "            if len(current_texts) == 2 and i < len(description_lines) - 1:\n",
    "                self.wait(2)\n",
    "                self.play(*[FadeOut(text) for text in current_texts], run_time=0.5)\n",
    "                current_texts = []  # Clear the list\n",
    "        \n",
    "        # Keep everything on screen for final moments\n",
    "        self.wait(2)"
   ]
  },
  {
   "cell_type": "markdown",
   "id": "6745e689",
   "metadata": {},
   "source": [
    "There are many mind blowing applications of recombinant DNA tech. , one of them is the making of Synthetic Bacteria.\n",
    "\n",
    "Scientists created a bacterium –“ Mycoplasma laboratorium”  with an entirely synthetic genome. It can replicate and carry out cell functions based on man-made DNA.\n",
    "\n",
    "In 2023, synthetic biologists engineered E. coli to produce taxol-like compounds, which are used in cancer chemotherapy. Of course this is one huge achievement"
   ]
  },
  {
   "cell_type": "code",
   "execution_count": 54,
   "id": "782208d4",
   "metadata": {},
   "outputs": [
    {
     "data": {
      "text/html": [
       "<pre style=\"white-space:pre;overflow-x:auto;line-height:normal;font-family:Menlo,'DejaVu Sans Mono',consolas,'Courier New',monospace\">Manim Community <span style=\"color: #008000; text-decoration-color: #008000\">v0.19.0</span>\n",
       "\n",
       "</pre>\n"
      ],
      "text/plain": [
       "Manim Community \u001b[32mv0.\u001b[0m\u001b[32m19.0\u001b[0m\n",
       "\n"
      ]
     },
     "metadata": {},
     "output_type": "display_data"
    },
    {
     "name": "stderr",
     "output_type": "stream",
     "text": [
      "                                                                                                                                                                                    \r"
     ]
    },
    {
     "data": {
      "text/html": [
       "<video src=\"media\\jupyter\\VideoTemplate1V3@2025-06-21@01-32-48.mp4\" controls autoplay loop style=\"max-width: 60%;\"  >\n",
       "      Your browser does not support the <code>video</code> element.\n",
       "    </video>"
      ],
      "text/plain": [
       "<IPython.core.display.Video object>"
      ]
     },
     "metadata": {},
     "output_type": "display_data"
    }
   ],
   "source": [
    "%manim -qh -v WARNING VideoTemplate1V3"
   ]
  },
  {
   "cell_type": "markdown",
   "id": "15cc8732",
   "metadata": {},
   "source": [
    "There are many mind blowing applications of recombinant DNA tech. , one of them is the making of Synthetic Bacteria.\n",
    "\n",
    "Scientists created a bacterium –“ Mycoplasma laboratorium”  with an entirely synthetic genome. It can replicate and carry out cell functions based on man-made DNA.\n",
    "\n",
    "In 2023, synthetic biologists engineered E. coli to produce taxol-like compounds, which are used in cancer chemotherapy. Of course this is one huge achievement"
   ]
  },
  {
   "cell_type": "code",
   "execution_count": 58,
   "id": "71aa47ca",
   "metadata": {},
   "outputs": [],
   "source": [
    "class VideoTemplate2V1(Scene):\n",
    "    def construct(self):\n",
    "        # Create heading at the top\n",
    "        heading = Text(\"Oil Eating Bacteria\", font_size=48, color=BLUE)\n",
    "        heading.to_edge(UP, buff=0.8)\n",
    "        \n",
    "        # Create animated underline for heading\n",
    "        underline = Line(\n",
    "            start=heading.get_left() + DOWN * 0.3,\n",
    "            end=heading.get_right() + DOWN * 0.3,\n",
    "            color=BLUE,\n",
    "            stroke_width=3\n",
    "        )\n",
    "        \n",
    "        # Description text lines (on the right side)\n",
    "        description_lines = [\n",
    "            \"Another great application of this technology is the \\n  Oil-Eating Bacteria (Environmental Applications)\",\n",
    "            \"These are genetically modified bacteria that can degrade \\n pollutants like oil, plastics, or heavy metals\\n from the environment.\",\n",
    "            \"Oil-eating bacteria break down oil using special enzymes\\n that digest hydrocarbons—the main components of oil\",\n",
    "            \"These bacteria multiply quickly in oily environments, \\n speeding up the natural cleanup process.\",\n",
    "            \"In 2021, a Japanese ship spilled more than 1,000 tons\\n of oil near Mauritius\",\n",
    "            \"Genetically engineered strains of Alcanivorax borkumensis\\n and Pseudomonas were used for bioremediation\",\n",
    "            \"These bacteria were enhanced to degrade longer-chain \\n hydrocarbons faster than natural strains\"\n",
    "        ]\n",
    "        \n",
    "        # Create a rectangle to show the video area (left side)\n",
    "        # video_placeholder = Rectangle(\n",
    "        #     width=5, height=4, \n",
    "        #     color=GRAY, \n",
    "        #     fill_opacity=0.1,\n",
    "        #     stroke_opacity=0.3\n",
    "        # )\n",
    "        # video_placeholder.move_to(LEFT * 2.5)\n",
    "        \n",
    "        # Add placeholder text\n",
    "        # placeholder_text = Text(\"Video Area\\n(Empty for now)\", font_size=20, color=GRAY)\n",
    "        # placeholder_text.move_to(video_placeholder.get_center())\n",
    "        \n",
    "        # Animate the scene\n",
    "        self.play(Write(heading), run_time=1)\n",
    "        self.play(Create(underline), run_time=0.5)\n",
    "        \n",
    "        # Show video placeholder area\n",
    "        # self.play(Create(video_placeholder), Write(placeholder_text), run_time=1)\n",
    "        \n",
    "        # Animate description lines one by one from center, with Write animation\n",
    "        current_texts = []  # Keep track of currently displayed texts\n",
    "        \n",
    "        for i, line in enumerate(description_lines):\n",
    "            # Create text positioned on the right side\n",
    "            text_line = Text(line, font_size=24, color=WHITE)\n",
    "            \n",
    "            # Position based on current number of texts displayed\n",
    "            if len(current_texts) == 0:\n",
    "                # First text starts at center with buffer from right edge\n",
    "                text_line.to_edge(LEFT, buff=5.5)\n",
    "                text_line.shift(UP * 0.5)\n",
    "            else:\n",
    "                # Second text goes below the first\n",
    "                text_line.to_edge(LEFT, buff=5.5)\n",
    "                text_line.shift(DOWN * 0.9)\n",
    "                text_line.shift(UP * 0.5)\n",
    "            \n",
    "            # Write the text with animation (like heading)\n",
    "            self.play(Write(text_line), run_time=3)\n",
    "            current_texts.append(text_line)\n",
    "            self.wait(1)  # Stay on screen for 1 second\n",
    "            \n",
    "            # After every 2 texts, fade them out (except for the last one)\n",
    "            if len(current_texts) == 2 and i < len(description_lines) - 1:\n",
    "                self.wait(2)\n",
    "                self.play(*[FadeOut(text) for text in current_texts], run_time=0.5)\n",
    "                current_texts = []  # Clear the list\n",
    "        \n",
    "        # Keep everything on screen for final moments\n",
    "        self.wait(2)"
   ]
  },
  {
   "cell_type": "code",
   "execution_count": 60,
   "id": "a08d92a9",
   "metadata": {},
   "outputs": [
    {
     "data": {
      "text/html": [
       "<pre style=\"white-space:pre;overflow-x:auto;line-height:normal;font-family:Menlo,'DejaVu Sans Mono',consolas,'Courier New',monospace\">Manim Community <span style=\"color: #008000; text-decoration-color: #008000\">v0.19.0</span>\n",
       "\n",
       "</pre>\n"
      ],
      "text/plain": [
       "Manim Community \u001b[32mv0.\u001b[0m\u001b[32m19.0\u001b[0m\n",
       "\n"
      ]
     },
     "metadata": {},
     "output_type": "display_data"
    },
    {
     "name": "stderr",
     "output_type": "stream",
     "text": [
      "                                                                                                                                                                                                                 \r"
     ]
    },
    {
     "data": {
      "text/html": [
       "<video src=\"media\\jupyter\\VideoTemplate2V1@2025-06-21@02-02-18.mp4\" controls autoplay loop style=\"max-width: 60%;\"  >\n",
       "      Your browser does not support the <code>video</code> element.\n",
       "    </video>"
      ],
      "text/plain": [
       "<IPython.core.display.Video object>"
      ]
     },
     "metadata": {},
     "output_type": "display_data"
    }
   ],
   "source": [
    "%manim -qh -v WARNING VideoTemplate2V1"
   ]
  }
 ],
 "metadata": {
  "kernelspec": {
   "display_name": ".venv",
   "language": "python",
   "name": "python3"
  },
  "language_info": {
   "codemirror_mode": {
    "name": "ipython",
    "version": 3
   },
   "file_extension": ".py",
   "mimetype": "text/x-python",
   "name": "python",
   "nbconvert_exporter": "python",
   "pygments_lexer": "ipython3",
   "version": "3.11.9"
  }
 },
 "nbformat": 4,
 "nbformat_minor": 5
}
